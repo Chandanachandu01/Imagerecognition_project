{
 "cells": [
  {
   "cell_type": "code",
   "execution_count": null,
   "id": "b8c8874f",
   "metadata": {},
   "outputs": [],
   "source": [
    "#Importing libraries"
   ]
  },
  {
   "cell_type": "code",
   "execution_count": 3,
   "id": "e553d667",
   "metadata": {},
   "outputs": [],
   "source": [
    "import numpy as np\n",
    "import tensorflow as tf\n",
    "from keras.preprocessing.image import ImageDataGenerator"
   ]
  },
  {
   "cell_type": "code",
   "execution_count": 4,
   "id": "c93f1cac",
   "metadata": {},
   "outputs": [],
   "source": [
    "#Data Preprocessing"
   ]
  },
  {
   "cell_type": "code",
   "execution_count": 5,
   "id": "a61e8152",
   "metadata": {},
   "outputs": [],
   "source": [
    "#Training Image processing"
   ]
  },
  {
   "cell_type": "code",
   "execution_count": 6,
   "id": "a3214eb8",
   "metadata": {},
   "outputs": [
    {
     "name": "stdout",
     "output_type": "stream",
     "text": [
      "Found 3885 images belonging to 5 classes.\n"
     ]
    }
   ],
   "source": [
    "train_datagen = ImageDataGenerator(\n",
    "        rescale=1./255,\n",
    "        shear_range=0.2,\n",
    "        zoom_range=0.2,\n",
    "        horizontal_flip=True)\n",
    "training_set = train_datagen.flow_from_directory(\n",
    "        'training_set',\n",
    "        target_size=(64, 64),\n",
    "        batch_size=32,\n",
    "        class_mode='categorical')"
   ]
  },
  {
   "cell_type": "code",
   "execution_count": null,
   "id": "7c773f6c",
   "metadata": {},
   "outputs": [],
   "source": [
    "#Test Image processing"
   ]
  },
  {
   "cell_type": "code",
   "execution_count": 7,
   "id": "65fade44",
   "metadata": {},
   "outputs": [
    {
     "name": "stdout",
     "output_type": "stream",
     "text": [
      "Found 4317 images belonging to 5 classes.\n"
     ]
    }
   ],
   "source": [
    "test_datagen = ImageDataGenerator(rescale=1./255)\n",
    "test_set = test_datagen.flow_from_directory(\n",
    "        'test_set',\n",
    "        target_size=(64, 64),\n",
    "        batch_size=32,\n",
    "        class_mode='categorical')"
   ]
  },
  {
   "cell_type": "code",
   "execution_count": null,
   "id": "3ab99142",
   "metadata": {},
   "outputs": [],
   "source": [
    "#Building Model"
   ]
  },
  {
   "cell_type": "code",
   "execution_count": 8,
   "id": "235f71ad",
   "metadata": {},
   "outputs": [],
   "source": [
    "cnn = tf.keras.models.Sequential()"
   ]
  },
  {
   "cell_type": "code",
   "execution_count": 9,
   "id": "407f8584",
   "metadata": {},
   "outputs": [],
   "source": [
    "#Building Convolution layer"
   ]
  },
  {
   "cell_type": "code",
   "execution_count": 10,
   "id": "77acdfa9",
   "metadata": {},
   "outputs": [],
   "source": [
    "cnn.add(tf.keras.layers.Conv2D(filters=64,kernel_size=3,activation='relu',input_shape=[64,64,3]))\n",
    "cnn.add(tf.keras.layers.MaxPool2D(pool_size=2,strides=2))"
   ]
  },
  {
   "cell_type": "code",
   "execution_count": 11,
   "id": "716bf79f",
   "metadata": {},
   "outputs": [],
   "source": [
    "cnn.add(tf.keras.layers.Conv2D(filters=64,kernel_size=3,activation='relu'))\n",
    "cnn.add(tf.keras.layers.MaxPool2D(pool_size=2,strides=2))"
   ]
  },
  {
   "cell_type": "code",
   "execution_count": 12,
   "id": "95504b72",
   "metadata": {},
   "outputs": [],
   "source": [
    "cnn.add(tf.keras.layers.Dropout(0.5))"
   ]
  },
  {
   "cell_type": "code",
   "execution_count": 13,
   "id": "98dd6fa0",
   "metadata": {},
   "outputs": [],
   "source": [
    "cnn.add(tf.keras.layers.Flatten())"
   ]
  },
  {
   "cell_type": "code",
   "execution_count": 14,
   "id": "82019e58",
   "metadata": {},
   "outputs": [],
   "source": [
    "cnn.add(tf.keras.layers.Dense(units=128, activation='relu'))"
   ]
  },
  {
   "cell_type": "code",
   "execution_count": 15,
   "id": "f5d78a52",
   "metadata": {},
   "outputs": [],
   "source": [
    "cnn.add(tf.keras.layers.Dense(units=5 , activation='softmax'))"
   ]
  },
  {
   "cell_type": "code",
   "execution_count": 16,
   "id": "90c53d4f",
   "metadata": {},
   "outputs": [],
   "source": [
    "cnn.compile(optimizer = 'rmsprop' , loss = 'categorical_crossentropy' , metrics = ['accuracy'])"
   ]
  },
  {
   "cell_type": "code",
   "execution_count": 17,
   "id": "c1c69a4c",
   "metadata": {},
   "outputs": [
    {
     "name": "stdout",
     "output_type": "stream",
     "text": [
      "Epoch 1/30\n",
      "122/122 [==============================] - 24s 194ms/step - loss: 1.3347 - accuracy: 0.4198 - val_loss: 1.0643 - val_accuracy: 0.5863\n",
      "Epoch 2/30\n",
      "122/122 [==============================] - 20s 167ms/step - loss: 1.0844 - accuracy: 0.5686 - val_loss: 1.0006 - val_accuracy: 0.6083\n",
      "Epoch 3/30\n",
      "122/122 [==============================] - 21s 174ms/step - loss: 0.9886 - accuracy: 0.6178 - val_loss: 0.9629 - val_accuracy: 0.6125\n",
      "Epoch 4/30\n",
      "122/122 [==============================] - 21s 174ms/step - loss: 0.9153 - accuracy: 0.6412 - val_loss: 0.8809 - val_accuracy: 0.6785\n",
      "Epoch 5/30\n",
      "122/122 [==============================] - 21s 171ms/step - loss: 0.8578 - accuracy: 0.6734 - val_loss: 0.7764 - val_accuracy: 0.7014\n",
      "Epoch 6/30\n",
      "122/122 [==============================] - 21s 174ms/step - loss: 0.8179 - accuracy: 0.6829 - val_loss: 0.9263 - val_accuracy: 0.6532\n",
      "Epoch 7/30\n",
      "122/122 [==============================] - 21s 174ms/step - loss: 0.7760 - accuracy: 0.7089 - val_loss: 0.9743 - val_accuracy: 0.6549\n",
      "Epoch 8/30\n",
      "122/122 [==============================] - 22s 177ms/step - loss: 0.7504 - accuracy: 0.7184 - val_loss: 0.7212 - val_accuracy: 0.7287\n",
      "Epoch 9/30\n",
      "122/122 [==============================] - 22s 177ms/step - loss: 0.7172 - accuracy: 0.7300 - val_loss: 0.7088 - val_accuracy: 0.7243\n",
      "Epoch 10/30\n",
      "122/122 [==============================] - 21s 175ms/step - loss: 0.6825 - accuracy: 0.7341 - val_loss: 0.6849 - val_accuracy: 0.7457\n",
      "Epoch 11/30\n",
      "122/122 [==============================] - 21s 175ms/step - loss: 0.6590 - accuracy: 0.7472 - val_loss: 0.5543 - val_accuracy: 0.8013\n",
      "Epoch 12/30\n",
      "122/122 [==============================] - 22s 177ms/step - loss: 0.6299 - accuracy: 0.7534 - val_loss: 0.5572 - val_accuracy: 0.7924\n",
      "Epoch 13/30\n",
      "122/122 [==============================] - 21s 175ms/step - loss: 0.6066 - accuracy: 0.7714 - val_loss: 0.5972 - val_accuracy: 0.7864\n",
      "Epoch 14/30\n",
      "122/122 [==============================] - 21s 173ms/step - loss: 0.5925 - accuracy: 0.7727 - val_loss: 0.5113 - val_accuracy: 0.8114\n",
      "Epoch 15/30\n",
      "122/122 [==============================] - 22s 180ms/step - loss: 0.5612 - accuracy: 0.7923 - val_loss: 0.6392 - val_accuracy: 0.7802\n",
      "Epoch 16/30\n",
      "122/122 [==============================] - 21s 174ms/step - loss: 0.5522 - accuracy: 0.7918 - val_loss: 0.5501 - val_accuracy: 0.7890\n",
      "Epoch 17/30\n",
      "122/122 [==============================] - 21s 174ms/step - loss: 0.5330 - accuracy: 0.7992 - val_loss: 0.4826 - val_accuracy: 0.8249\n",
      "Epoch 18/30\n",
      "122/122 [==============================] - 21s 176ms/step - loss: 0.4987 - accuracy: 0.8100 - val_loss: 0.5183 - val_accuracy: 0.8114\n",
      "Epoch 19/30\n",
      "122/122 [==============================] - 21s 170ms/step - loss: 0.4916 - accuracy: 0.8201 - val_loss: 0.3644 - val_accuracy: 0.8744\n",
      "Epoch 20/30\n",
      "122/122 [==============================] - 21s 175ms/step - loss: 0.4758 - accuracy: 0.8255 - val_loss: 0.5112 - val_accuracy: 0.8179\n",
      "Epoch 21/30\n",
      "122/122 [==============================] - 21s 175ms/step - loss: 0.4542 - accuracy: 0.8314 - val_loss: 0.4557 - val_accuracy: 0.8429\n",
      "Epoch 22/30\n",
      "122/122 [==============================] - 21s 175ms/step - loss: 0.4580 - accuracy: 0.8366 - val_loss: 0.4188 - val_accuracy: 0.8494\n",
      "Epoch 23/30\n",
      "122/122 [==============================] - 23s 185ms/step - loss: 0.4127 - accuracy: 0.8425 - val_loss: 0.6349 - val_accuracy: 0.7839\n",
      "Epoch 24/30\n",
      "122/122 [==============================] - 22s 180ms/step - loss: 0.4120 - accuracy: 0.8443 - val_loss: 0.2728 - val_accuracy: 0.9122\n",
      "Epoch 25/30\n",
      "122/122 [==============================] - 22s 177ms/step - loss: 0.4068 - accuracy: 0.8587 - val_loss: 0.3319 - val_accuracy: 0.8916\n",
      "Epoch 26/30\n",
      "122/122 [==============================] - 22s 178ms/step - loss: 0.4043 - accuracy: 0.8530 - val_loss: 0.2936 - val_accuracy: 0.9113\n",
      "Epoch 27/30\n",
      "122/122 [==============================] - 22s 177ms/step - loss: 0.3758 - accuracy: 0.8656 - val_loss: 0.3013 - val_accuracy: 0.8999\n",
      "Epoch 28/30\n",
      "122/122 [==============================] - 21s 173ms/step - loss: 0.3640 - accuracy: 0.8631 - val_loss: 0.2410 - val_accuracy: 0.9219\n",
      "Epoch 29/30\n",
      "122/122 [==============================] - 21s 173ms/step - loss: 0.3401 - accuracy: 0.8721 - val_loss: 0.2759 - val_accuracy: 0.9166\n",
      "Epoch 30/30\n",
      "122/122 [==============================] - 21s 175ms/step - loss: 0.3449 - accuracy: 0.8813 - val_loss: 0.2482 - val_accuracy: 0.9273\n"
     ]
    },
    {
     "data": {
      "text/plain": [
       "<keras.src.callbacks.History at 0x1f429dba150>"
      ]
     },
     "execution_count": 17,
     "metadata": {},
     "output_type": "execute_result"
    }
   ],
   "source": [
    "cnn.fit(x = training_set , validation_data = test_set , epochs = 30)"
   ]
  },
  {
   "cell_type": "code",
   "execution_count": 18,
   "id": "fe063aea",
   "metadata": {},
   "outputs": [],
   "source": [
    "#Preprocess New Image"
   ]
  },
  {
   "cell_type": "code",
   "execution_count": 60,
   "id": "1dac3137",
   "metadata": {},
   "outputs": [
    {
     "name": "stdout",
     "output_type": "stream",
     "text": [
      "1/1 [==============================] - 0s 15ms/step\n"
     ]
    },
    {
     "data": {
      "text/plain": [
       "{'daisy': 0, 'dandelion': 1, 'rose': 2, 'sunflower': 3, 'tulip': 4}"
      ]
     },
     "execution_count": 60,
     "metadata": {},
     "output_type": "execute_result"
    }
   ],
   "source": [
    "from keras.preprocessing import image\n",
    "test_image = image.load_img('Prediction/sunflower.jpeg',target_size=(64,64))\n",
    "test_image = image.img_to_array(test_image)\n",
    "test_image = np.expand_dims(test_image,axis=0)\n",
    "result = cnn.predict(test_image)\n",
    "training_set.class_indices"
   ]
  },
  {
   "cell_type": "code",
   "execution_count": 61,
   "id": "697ebd61",
   "metadata": {},
   "outputs": [
    {
     "name": "stdout",
     "output_type": "stream",
     "text": [
      "[[0. 0. 0. 1. 0.]]\n"
     ]
    }
   ],
   "source": [
    "print(result)"
   ]
  },
  {
   "cell_type": "code",
   "execution_count": 62,
   "id": "59d3a3c9",
   "metadata": {},
   "outputs": [
    {
     "name": "stdout",
     "output_type": "stream",
     "text": [
      "SunFlower\n"
     ]
    }
   ],
   "source": [
    "if result[0][0]==1:\n",
    "    print('Daisy')\n",
    "elif result[0][1]==1:\n",
    "    print('Dandelion')\n",
    "elif result[0][2]==1:\n",
    "    print('Rose')\n",
    "elif result[0][3]==1:\n",
    "    print('SunFlower')\n",
    "elif result[0][4]==1:\n",
    "    print(\"Tulip\")"
   ]
  },
  {
   "cell_type": "code",
   "execution_count": null,
   "id": "2a85320b",
   "metadata": {},
   "outputs": [],
   "source": []
  },
  {
   "cell_type": "code",
   "execution_count": null,
   "id": "e35c98d8",
   "metadata": {},
   "outputs": [],
   "source": []
  },
  {
   "cell_type": "code",
   "execution_count": null,
   "id": "0f2f61c6",
   "metadata": {},
   "outputs": [],
   "source": []
  }
 ],
 "metadata": {
  "kernelspec": {
   "display_name": "Python 3 (ipykernel)",
   "language": "python",
   "name": "python3"
  },
  "language_info": {
   "codemirror_mode": {
    "name": "ipython",
    "version": 3
   },
   "file_extension": ".py",
   "mimetype": "text/x-python",
   "name": "python",
   "nbconvert_exporter": "python",
   "pygments_lexer": "ipython3",
   "version": "3.11.4"
  }
 },
 "nbformat": 4,
 "nbformat_minor": 5
}
